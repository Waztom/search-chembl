{
 "cells": [
  {
   "cell_type": "code",
   "execution_count": 1,
   "metadata": {},
   "outputs": [
    {
     "ename": "ModuleNotFoundError",
     "evalue": "No module named 'psycopg2'",
     "output_type": "error",
     "traceback": [
      "\u001b[0;31m---------------------------------------------------------------------------\u001b[0m",
      "\u001b[0;31mModuleNotFoundError\u001b[0m                       Traceback (most recent call last)",
      "\u001b[0;32m<ipython-input-1-b5201e957c2c>\u001b[0m in \u001b[0;36m<module>\u001b[0;34m\u001b[0m\n\u001b[1;32m      1\u001b[0m \u001b[0;31m# Import library to connect Postgresql\u001b[0m\u001b[0;34m\u001b[0m\u001b[0;34m\u001b[0m\u001b[0;34m\u001b[0m\u001b[0m\n\u001b[0;32m----> 2\u001b[0;31m \u001b[0;32mimport\u001b[0m \u001b[0mpsycopg2\u001b[0m\u001b[0;34m\u001b[0m\u001b[0;34m\u001b[0m\u001b[0m\n\u001b[0m\u001b[1;32m      3\u001b[0m \u001b[0;32mimport\u001b[0m \u001b[0mpandas\u001b[0m \u001b[0;32mas\u001b[0m \u001b[0mpd\u001b[0m\u001b[0;34m\u001b[0m\u001b[0;34m\u001b[0m\u001b[0m\n",
      "\u001b[0;31mModuleNotFoundError\u001b[0m: No module named 'psycopg2'"
     ]
    }
   ],
   "source": [
    "# Import library to connect Postgresql\n",
    "import psycopg2\n",
    "import pandas as pd"
   ]
  },
  {
   "cell_type": "code",
   "execution_count": null,
   "metadata": {},
   "outputs": [],
   "source": [
    "try:\n",
    "    connect_str = \"dbname='chembl_26'\"\n",
    "    \n",
    "    # use our connection values to establish a connection\n",
    "    conn = psycopg2.connect(connect_str)\n",
    "    \n",
    "    # create a psycopg2 cursor that can execute queries\n",
    "    cursor = conn.cursor()\n",
    "    \n",
    "    # query ChemBL database\n",
    "    print('PostgreSQL database version:')\n",
    "    cursor.execute('SELECT version()')\n",
    "    \n",
    "    # display the PostgreSQL database server version\n",
    "    db_version = cursor.fetchone()\n",
    "    print(db_version)\n",
    "    \n",
    "    # attempt SQL query with help from ChemBL blog\n",
    "    qtext = \"\"\"\n",
    "    SELECT\n",
    "      activities.doc_id                    AS doc_id,\n",
    "      activities.standard_value            AS standard_value,\n",
    "      molecule_hierarchy.parent_molregno   AS molregno,\n",
    "      compound_structures.canonical_smiles AS canonical_smiles,\n",
    "      molecule_dictionary.chembl_id        AS chembl_id,\n",
    "      target_dictionary.tid                AS tid,\n",
    "      target_dictionary.chembl_id          AS target_chembl_id,\n",
    "      protein_family_classification.l1     AS l1,\n",
    "      protein_family_classification.l2     AS l2,\n",
    "      protein_family_classification.l3     AS l3\n",
    "    FROM activities\n",
    "      JOIN assays ON activities.assay_id = assays.assay_id\n",
    "      JOIN target_dictionary ON assays.tid = target_dictionary.tid\n",
    "      JOIN target_components ON target_dictionary.tid = target_components.tid\n",
    "      JOIN component_class ON target_components.component_id = component_class.component_id\n",
    "      JOIN protein_family_classification ON component_class.protein_class_id = protein_family_classification.protein_class_id\n",
    "      JOIN molecule_dictionary ON activities.molregno = molecule_dictionary.molregno\n",
    "      JOIN molecule_hierarchy ON molecule_dictionary.molregno = molecule_hierarchy.molregno\n",
    "      JOIN compound_structures ON molecule_hierarchy.parent_molregno = compound_structures.molregno\n",
    "    WHERE activities.standard_units = 'nM' AND\n",
    "          activities.standard_type IN ('EC50', 'IC50', 'Ki', 'Kd', 'XC50', 'AC50', 'Potency') AND\n",
    "          activities.data_validity_comment IS NULL AND\n",
    "          activities.standard_relation IN ('=', '<') AND\n",
    "          activities.potential_duplicate = 0 AND assays.confidence_score >= 8 AND\n",
    "          target_dictionary.target_type = 'SINGLE PROTEIN'\"\"\"\n",
    "    \n",
    "    # cursor execute and fetch\n",
    "    cursor.execute(qtext)\n",
    "    query_result = cursor.fetchall()\n",
    "    \n",
    "    # create dataframe \n",
    "    df = pd.DataFrame(query_result)\n",
    "    \n",
    "    # close database connection and psycopg2 cursor\n",
    "    cursor.close()\n",
    "    conn.close()\n",
    "except Exception as e:\n",
    "    print(\"Uh oh, can't connect. Invalid dbname, user or password?\")\n",
    "    print(e)"
   ]
  },
  {
   "cell_type": "code",
   "execution_count": null,
   "metadata": {},
   "outputs": [],
   "source": [
    "df.count"
   ]
  },
  {
   "cell_type": "code",
   "execution_count": null,
   "metadata": {},
   "outputs": [],
   "source": []
  },
  {
   "cell_type": "code",
   "execution_count": null,
   "metadata": {},
   "outputs": [],
   "source": []
  },
  {
   "cell_type": "code",
   "execution_count": null,
   "metadata": {},
   "outputs": [],
   "source": []
  },
  {
   "cell_type": "code",
   "execution_count": null,
   "metadata": {},
   "outputs": [],
   "source": []
  }
 ],
 "metadata": {
  "kernelspec": {
   "display_name": "Python 3",
   "language": "python",
   "name": "python3"
  },
  "language_info": {
   "codemirror_mode": {
    "name": "ipython",
    "version": 3
   },
   "file_extension": ".py",
   "mimetype": "text/x-python",
   "name": "python",
   "nbconvert_exporter": "python",
   "pygments_lexer": "ipython3",
   "version": "3.6.10"
  }
 },
 "nbformat": 4,
 "nbformat_minor": 2
}
